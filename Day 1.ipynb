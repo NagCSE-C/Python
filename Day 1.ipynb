{
 "cells": [
  {
   "cell_type": "markdown",
   "metadata": {},
   "source": [
    "# Headings\n",
    "## Heading1\n",
    "### Heading2\n",
    "#### Heading3\n",
    "# Bold \n",
    "# Make in India\n",
    "# Rollable Displays\n",
    "**Welcome Fau-G**\n",
    "\n",
    "# Italic \n",
    "\n",
    "*PuBg*"
   ]
  },
  {
   "cell_type": "markdown",
   "metadata": {},
   "source": [
    "***BOld and Italic***"
   ]
  },
  {
   "cell_type": "markdown",
   "metadata": {},
   "source": [
    "<img src=\"\">"
   ]
  },
  {
   "cell_type": "markdown",
   "metadata": {},
   "source": [
    "# Handling Images\n",
    "<img src=\"\">\n"
   ]
  },
  {
   "cell_type": "markdown",
   "metadata": {},
   "source": [
    "<img src=\"Sample.jpg\">\n"
   ]
  },
  {
   "cell_type": "markdown",
   "metadata": {},
   "source": [
    "<img src=\"https://www.androidpolice.com/wp-content/uploads/2020/09/15/lg-wing-swivel.png\">\n"
   ]
  },
  {
   "cell_type": "markdown",
   "metadata": {},
   "source": [
    "<img src=\"Sample.jpg\" height=2500px width=1564px>"
   ]
  },
  {
   "cell_type": "markdown",
   "metadata": {},
   "source": [
    "<img src=\"https://www.androidpolice.com/wp-content/uploads/2020/09/15/lg-wing-swivel.png\" height=1234px width=4321px>"
   ]
  },
  {
   "cell_type": "markdown",
   "metadata": {},
   "source": [
    "# Links \n",
    "\n",
    "[Google](https:\\\\www.google.com)"
   ]
  },
  {
   "cell_type": "markdown",
   "metadata": {},
   "source": [
    "[Google](https:\\\\www.Google.com)\n",
    "[APSSDC](https:\\\\www.apssdc.com)"
   ]
  },
  {
   "cell_type": "markdown",
   "metadata": {},
   "source": [
    "# Bullet Points\n",
    "\n",
    "+ Programing \n",
    "    + C\n",
    "    - Java\n",
    "    * Python\n",
    " \n",
    "- Web\n",
    "    + Html\n",
    "    - CSS\n",
    "    * Js\n",
    "\n",
    "* Social Websites\n",
    "    + Facebook\n",
    "    - Twitter\n",
    "    * Instagram"
   ]
  },
  {
   "cell_type": "markdown",
   "metadata": {},
   "source": [
    "# Order List\n",
    "\n",
    "1. Bootstrap\n",
    "\n",
    "100. Jquery\n",
    "\n",
    "500. Ajax\n",
    "\n",
    "1000. Angularjs\n",
    "\n",
    "# Unorder List\n",
    "\n",
    "1. Django\n",
    "\n",
    "+ Flask\n",
    "\n",
    "3. Bottle\n",
    "\n",
    "- Cherrypy"
   ]
  },
  {
   "cell_type": "markdown",
   "metadata": {},
   "source": [
    "# Introduction To Python\n",
    "\n",
    "# History of Python\n",
    "\n",
    "# Keywords or Reserved words in Python\n",
    "\n",
    "# Variables in Python\n",
    "\n",
    "# Operators in Python\n",
    "\n",
    "# Comments in Python\n",
    "\n",
    "# Control flow Statements"
   ]
  },
  {
   "cell_type": "markdown",
   "metadata": {},
   "source": [
    "# Introduction To Python \n",
    "\n",
    "   + Highlevel\n",
    "   - Object oriented Programing\n",
    "   * Interpreted\n",
    "   + Dynamic\n",
    "   - Multipurpose\n",
    "   \n",
    "# History of Python\n",
    "\n",
    "   + In 1980's started implementation of python\n",
    "   + In 1991's released 0.9.0 version\n",
    "   + In 1994 released 1.0 version with features of Anonymous Functions like Lambda,Map,Filter,Reduce.\n",
    "   + In 2000 again republished 2.0 version with features of data structers like List,Tuple,Dictionary,Sets\n",
    "   + In 2008 again republished 3.0 with features of garbage collection \n",
    "   \n",
    " \n"
   ]
  },
  {
   "cell_type": "code",
   "execution_count": 28,
   "metadata": {},
   "outputs": [
    {
     "data": {
      "text/plain": [
       "['False',\n",
       " 'None',\n",
       " 'True',\n",
       " 'and',\n",
       " 'as',\n",
       " 'assert',\n",
       " 'async',\n",
       " 'await',\n",
       " 'break',\n",
       " 'class',\n",
       " 'continue',\n",
       " 'def',\n",
       " 'del',\n",
       " 'elif',\n",
       " 'else',\n",
       " 'except',\n",
       " 'finally',\n",
       " 'for',\n",
       " 'from',\n",
       " 'global',\n",
       " 'if',\n",
       " 'import',\n",
       " 'in',\n",
       " 'is',\n",
       " 'lambda',\n",
       " 'nonlocal',\n",
       " 'not',\n",
       " 'or',\n",
       " 'pass',\n",
       " 'raise',\n",
       " 'return',\n",
       " 'try',\n",
       " 'while',\n",
       " 'with',\n",
       " 'yield']"
      ]
     },
     "execution_count": 28,
     "metadata": {},
     "output_type": "execute_result"
    }
   ],
   "source": [
    " \n",
    "# Keywords or Reserved words \n",
    "import keyword\n",
    "dir(keyword)\n",
    "\n",
    "keyword.iskeyword('is')\n",
    "keyword.iskeyword('iss')\n",
    "keyword.kwlist"
   ]
  },
  {
   "cell_type": "code",
   "execution_count": 36,
   "metadata": {},
   "outputs": [
    {
     "name": "stdout",
     "output_type": "stream",
     "text": [
      "10\n",
      "100\n",
      "hello\n"
     ]
    }
   ],
   "source": [
    "# Variable Declaration\n",
    "a=10\n",
    "#1b=200\n",
    "b1=100\n",
    "_c = 'hello'\n",
    "print(a)\n",
    "#print(1b)\n",
    "print(b1)\n",
    "print(_c)"
   ]
  },
  {
   "cell_type": "code",
   "execution_count": 38,
   "metadata": {},
   "outputs": [
    {
     "name": "stdout",
     "output_type": "stream",
     "text": [
      "12\n",
      "12\n",
      "12\n",
      "12\n"
     ]
    }
   ],
   "source": [
    "# How to store single value in multiple variables\n",
    "a=b=c=d=12\n",
    "print(a)\n",
    "print(b)\n",
    "print(c)\n",
    "print(d)"
   ]
  },
  {
   "cell_type": "code",
   "execution_count": 40,
   "metadata": {},
   "outputs": [
    {
     "name": "stdout",
     "output_type": "stream",
     "text": [
      "10\n",
      "25\n",
      "52\n",
      "201\n"
     ]
    }
   ],
   "source": [
    "# How to Store Multiple values in multiple variables\n",
    "\n",
    "a,b,c,d=10,25,52,201\n",
    "print(a)\n",
    "print(b)\n",
    "print(c)\n",
    "print(d)"
   ]
  },
  {
   "cell_type": "code",
   "execution_count": null,
   "metadata": {},
   "outputs": [],
   "source": [
    "# Operators \n",
    "\n",
    "1.Arthimetic Operator(+,-,*,/,%,//,**)\n",
    "2.Relational or Comparision Operator(<,>,<=,>=,==,!=)\n",
    "3."
   ]
  }
 ],
 "metadata": {
  "kernelspec": {
   "display_name": "Python 3",
   "language": "python",
   "name": "python3"
  },
  "language_info": {
   "codemirror_mode": {
    "name": "ipython",
    "version": 3
   },
   "file_extension": ".py",
   "mimetype": "text/x-python",
   "name": "python",
   "nbconvert_exporter": "python",
   "pygments_lexer": "ipython3",
   "version": "3.7.3"
  }
 },
 "nbformat": 4,
 "nbformat_minor": 2
}
