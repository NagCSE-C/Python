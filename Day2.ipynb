{
 "cells": [
  {
   "cell_type": "markdown",
   "metadata": {},
   "source": [
    "# To Day Agenda\n",
    "\n",
    "+ Execution of commands in python shell\n",
    "\n",
    "+ Data Types\n",
    "    + int\n",
    "    - float\n",
    "    * boolean\n",
    "    * string(str)\n",
    "    + complex\n",
    "+ I/p and O/p\n",
    " \n",
    "+ Program Execution in IDLE\n",
    "\n",
    "- Program Execution in CommandPrompt\n",
    "\n",
    "\n",
    "+ Git Hub Account Creation\n",
    "\n"
   ]
  },
  {
   "cell_type": "markdown",
   "metadata": {},
   "source": [
    "…or create a new repository on the command line\n",
    "echo \"# Python\" >> README.md\n",
    "git init\n",
    "git add README.md\n",
    "git commit -m \"first commit\"\n",
    "git branch -M main\n",
    "git remote add origin https://github.com/NagCSE-C/Python.git\n",
    "git push -u origin main\n",
    "…or push an existing repository from the command line\n",
    "git remote add origin https://github.com/NagCSE-C/Python.git\n",
    "git branch -M main\n",
    "git push -u origin main\n"
   ]
  },
  {
   "cell_type": "code",
   "execution_count": 1,
   "metadata": {},
   "outputs": [
    {
     "name": "stdout",
     "output_type": "stream",
     "text": [
      "20\n",
      "0\n",
      "100\n",
      "1.0\n",
      "1\n",
      "0\n",
      "10000000000\n",
      "8\n"
     ]
    }
   ],
   "source": [
    "a = 10\n",
    "b = 10\n",
    "print(a+b)\n",
    "print(a-b)\n",
    "print(a*b)\n",
    "print(a/b) # floating\n",
    "print(a//b) # Interger\n",
    "print(a%b)\n",
    "print(a**b)\n",
    "pow(a,b) # Pre-defined function for power\n",
    "print(pow(2,3))"
   ]
  },
  {
   "cell_type": "code",
   "execution_count": 2,
   "metadata": {},
   "outputs": [
    {
     "name": "stdout",
     "output_type": "stream",
     "text": [
      "False\n",
      "False\n",
      "False\n",
      "True\n",
      "False\n",
      "True\n",
      "True\n"
     ]
    }
   ],
   "source": [
    "# Relational or Comparision Operator\n",
    "\n",
    "print(50>100)\n",
    "print(100<50)\n",
    "print(50>=100)\n",
    "print(50<=100)\n",
    "print(50==100)\n",
    "print(4==4)\n",
    "print(50!=100)"
   ]
  },
  {
   "cell_type": "code",
   "execution_count": 3,
   "metadata": {},
   "outputs": [
    {
     "name": "stdout",
     "output_type": "stream",
     "text": [
      "False\n",
      "False\n",
      "False\n",
      "True\n"
     ]
    }
   ],
   "source": [
    "# Logical Operators\n",
    "# and operator\n",
    "\n",
    "print(False and False)\n",
    "print(False and True)\n",
    "print(True and False)\n",
    "print(True and True)\n"
   ]
  },
  {
   "cell_type": "code",
   "execution_count": 4,
   "metadata": {},
   "outputs": [
    {
     "name": "stdout",
     "output_type": "stream",
     "text": [
      "False\n",
      "True\n",
      "True\n",
      "True\n"
     ]
    }
   ],
   "source": [
    "# or Operator\n",
    "\n",
    "print(False or False)\n",
    "print(False or True)\n",
    "print(True or False)\n",
    "print(True or True)"
   ]
  },
  {
   "cell_type": "code",
   "execution_count": 5,
   "metadata": {},
   "outputs": [
    {
     "name": "stdout",
     "output_type": "stream",
     "text": [
      "True\n",
      "True\n",
      "True\n",
      "False\n"
     ]
    }
   ],
   "source": [
    "\n",
    "# not with and \n",
    "\n",
    "print(not(False and False))\n",
    "print(not(False and True))\n",
    "print(not(True and False))\n",
    "print(not(True and True))"
   ]
  },
  {
   "cell_type": "code",
   "execution_count": 6,
   "metadata": {},
   "outputs": [
    {
     "name": "stdout",
     "output_type": "stream",
     "text": [
      "True\n",
      "False\n",
      "False\n",
      "False\n"
     ]
    }
   ],
   "source": [
    "\n",
    "\n",
    "# not with or\n",
    "\n",
    "print(not(False or False))\n",
    "print(not(False or True))\n",
    "print(not(True or False))\n",
    "print(not(True or True))\n"
   ]
  },
  {
   "cell_type": "code",
   "execution_count": 7,
   "metadata": {},
   "outputs": [
    {
     "name": "stdout",
     "output_type": "stream",
     "text": [
      "False\n",
      "False\n",
      "True\n",
      "True\n"
     ]
    }
   ],
   "source": [
    "print(10>9 and 5<4)\n",
    "print(10==10 and 9!=9)\n",
    "print(9!=5 or 5==5)\n",
    "print(not(100>99 and 50<20))"
   ]
  },
  {
   "cell_type": "code",
   "execution_count": 8,
   "metadata": {},
   "outputs": [
    {
     "data": {
      "text/plain": [
       "2.0"
      ]
     },
     "execution_count": 8,
     "metadata": {},
     "output_type": "execute_result"
    }
   ],
   "source": [
    "# Assignment Operator\n",
    "\n",
    "a=5\n",
    "a+=5\n",
    "a-=6\n",
    "a*=4\n",
    "a/=8\n",
    "a"
   ]
  },
  {
   "cell_type": "code",
   "execution_count": 9,
   "metadata": {},
   "outputs": [
    {
     "data": {
      "text/plain": [
       "'e'"
      ]
     },
     "execution_count": 9,
     "metadata": {},
     "output_type": "execute_result"
    }
   ],
   "source": [
    "# Bitwise Operator  & / ^\n",
    "\n",
    "2&2\n",
    "\n",
    "10 & 5\n",
    "\n",
    "bin(5)\n",
    "\n",
    "bin(11)\n",
    "\n",
    "11 | 6\n",
    "\n",
    "20^10\n",
    "\n",
    "# To check the ASCII[American Standard ]\n",
    "ord('A')\n",
    "ord('a')\n",
    "\n",
    "# To check alphabet from numerical \n",
    "chr(97)\n",
    "chr(101)"
   ]
  },
  {
   "cell_type": "code",
   "execution_count": 10,
   "metadata": {},
   "outputs": [
    {
     "data": {
      "text/plain": [
       "False"
      ]
     },
     "execution_count": 10,
     "metadata": {},
     "output_type": "execute_result"
    }
   ],
   "source": [
    "# Membership Operator -> in , not in\n",
    "s = \"Welcome to python workshop\"\n",
    "\n",
    "'to' in s\n",
    "\n",
    "'hi' in s\n",
    "\n",
    "'bye' not in s\n",
    "\n",
    "'work' not in s"
   ]
  },
  {
   "cell_type": "code",
   "execution_count": 11,
   "metadata": {},
   "outputs": [
    {
     "data": {
      "text/plain": [
       "True"
      ]
     },
     "execution_count": 11,
     "metadata": {},
     "output_type": "execute_result"
    }
   ],
   "source": [
    "# Identity operator -> is ,is not\n",
    "\n",
    "# This is used to check the value of variables\n",
    "\n",
    "n = 'hello'\n",
    "\n",
    "m = 'Python'\n",
    "\n",
    "n is m\n",
    "\n",
    "n is not m"
   ]
  },
  {
   "cell_type": "code",
   "execution_count": 12,
   "metadata": {},
   "outputs": [
    {
     "ename": "NameError",
     "evalue": "name 'condition' is not defined",
     "output_type": "error",
     "traceback": [
      "\u001b[1;31m---------------------------------------------------------------------------\u001b[0m",
      "\u001b[1;31mNameError\u001b[0m                                 Traceback (most recent call last)",
      "\u001b[1;32m<ipython-input-12-2f615f22b947>\u001b[0m in \u001b[0;36m<module>\u001b[1;34m\u001b[0m\n\u001b[0;32m      5\u001b[0m \u001b[1;31m# Four spaces = 1 Tab Space\u001b[0m\u001b[1;33m\u001b[0m\u001b[1;33m\u001b[0m\u001b[1;33m\u001b[0m\u001b[0m\n\u001b[0;32m      6\u001b[0m \u001b[1;33m\u001b[0m\u001b[0m\n\u001b[1;32m----> 7\u001b[1;33m \u001b[1;32mif\u001b[0m \u001b[1;33m(\u001b[0m\u001b[0mcondition\u001b[0m\u001b[1;33m)\u001b[0m\u001b[1;33m:\u001b[0m\u001b[1;33m\u001b[0m\u001b[1;33m\u001b[0m\u001b[0m\n\u001b[0m\u001b[0;32m      8\u001b[0m     \u001b[0mstatements\u001b[0m\u001b[1;33m\u001b[0m\u001b[1;33m\u001b[0m\u001b[0m\n\u001b[0;32m      9\u001b[0m \u001b[1;32melif\u001b[0m \u001b[1;33m(\u001b[0m\u001b[0mcondition\u001b[0m\u001b[1;33m)\u001b[0m\u001b[1;33m:\u001b[0m\u001b[1;33m\u001b[0m\u001b[1;33m\u001b[0m\u001b[0m\n",
      "\u001b[1;31mNameError\u001b[0m: name 'condition' is not defined"
     ]
    }
   ],
   "source": [
    "# Conditional Statements\n",
    "# if , elif, else\n",
    "\n",
    "#Syntax \n",
    "# Four spaces = 1 Tab Space\n",
    "\n",
    "if (condition):\n",
    "    statements\n",
    "elif (condition):\n",
    "    statements\n",
    "else:\n",
    "    statements"
   ]
  },
  {
   "cell_type": "code",
   "execution_count": null,
   "metadata": {},
   "outputs": [],
   "source": [
    "a = int(input(\"Enter the Number:\"))\n",
    "if (a/2==0):\n",
    "    print(a,\"Even Number\")\n",
    "else:\n",
    "    print(a,\"Odd Number\")"
   ]
  },
  {
   "cell_type": "code",
   "execution_count": null,
   "metadata": {},
   "outputs": [],
   "source": [
    "a = int(input(\"Enter the Number\"))\n",
    "if(a/2!=0):\n",
    "    print(a,\"Odd Number\")\n",
    "else:\n",
    "    print(a,\"Not an Odd Number\")"
   ]
  },
  {
   "cell_type": "code",
   "execution_count": null,
   "metadata": {},
   "outputs": [],
   "source": [
    "# Write a Program to print Days\n",
    "\n",
    "n = int(input(\"Enter the Day Number\"))\n",
    "if n==1:\n",
    "    print(\"Monday\")\n",
    "elif n==2: print(\"Tuesday\")\n",
    "elif n==3: print(\"Wednesday\")\n",
    "elif n==4: print(\"Thursday\")\n",
    "elif n==5: print(\"Friday\")\n",
    "elif n==5: print(\"Saturday\")        \n",
    "elif n==6: print(\"Sunday\")\n",
    "else:print(\"Invalid Number\")"
   ]
  },
  {
   "cell_type": "code",
   "execution_count": null,
   "metadata": {},
   "outputs": [],
   "source": [
    "a = input(\"Username\")\n",
    "pasw = int(input(\"Password\"))\n",
    "if ((a==Pace) and (pasw==1234)):\n",
    "    print(\"Welcome\")\n",
    "else:\n",
    "    print(\"Enter Valid Username & Password\")"
   ]
  },
  {
   "cell_type": "code",
   "execution_count": null,
   "metadata": {},
   "outputs": [],
   "source": [
    "# Iteration -> for , while\n",
    "# for,while\n",
    "# Syntax\n",
    "\n",
    "# for variable in range(inclusive,exclusive,step):\n",
    " print(variablename)"
   ]
  },
  {
   "cell_type": "code",
   "execution_count": null,
   "metadata": {},
   "outputs": [],
   "source": [
    "for temp in range(11):\n",
    "    print(temp)"
   ]
  },
  {
   "cell_type": "code",
   "execution_count": null,
   "metadata": {},
   "outputs": [],
   "source": [
    "#for temp in range(10+1): ##10+1 or 11\n",
    " #   print(temp)\n",
    "    \n",
    "for i in range(1,100+1):\n",
    "    print(i,end=\"-->\")"
   ]
  },
  {
   "cell_type": "code",
   "execution_count": null,
   "metadata": {},
   "outputs": [],
   "source": [
    "for rev in range(100,0,-1):\n",
    "    print(rev,end=\"<--\")"
   ]
  },
  {
   "cell_type": "code",
   "execution_count": null,
   "metadata": {},
   "outputs": [],
   "source": [
    "for even in range(0,50+1,):\n",
    "    print(even,end=\"-->\")"
   ]
  },
  {
   "cell_type": "code",
   "execution_count": null,
   "metadata": {},
   "outputs": [],
   "source": [
    "for odd in range(1,50+1,2):\n",
    "    print(odd,end=\"-->\")"
   ]
  },
  {
   "cell_type": "code",
   "execution_count": null,
   "metadata": {},
   "outputs": [],
   "source": [
    "for dif in range(1,100,3):\n",
    "    print(dif,end=\" \")"
   ]
  },
  {
   "cell_type": "code",
   "execution_count": null,
   "metadata": {},
   "outputs": [],
   "source": [
    "a  = int(input(\"Enter the number: \"))\n",
    "for i in range(1,10+1):\n",
    "    print(a,\"*\",i,\"=\",i*a)"
   ]
  },
  {
   "cell_type": "code",
   "execution_count": null,
   "metadata": {},
   "outputs": [],
   "source": [
    "a\n",
    "for a in range(0,10+1):\n",
    "    a =int(input(\"Enter how many tables: \"))\n",
    "    for i in range(1,10+1):\n",
    "        print(a,\"*\",i,\"=\",num*i)\n",
    "        "
   ]
  },
  {
   "cell_type": "code",
   "execution_count": null,
   "metadata": {},
   "outputs": [],
   "source": [
    "n = int(input(\"Enter the Number:\"))\n",
    "fact=0\n",
    "for i in range(0,a+1):\n",
    "    fact = n * i * i-1\n",
    "    print(fact)"
   ]
  },
  {
   "cell_type": "code",
   "execution_count": null,
   "metadata": {},
   "outputs": [],
   "source": [
    "# while condition:\n",
    "#  statements\n",
    "# by using while loop to print values\n",
    "i=1\n",
    "while (i<=10):\n",
    "    print(i)\n",
    "    i+=1"
   ]
  },
  {
   "cell_type": "code",
   "execution_count": null,
   "metadata": {},
   "outputs": [],
   "source": [
    "i = 20\n",
    "while(i>=1):\n",
    "    print(i)\n",
    "    i-=1"
   ]
  },
  {
   "cell_type": "code",
   "execution_count": null,
   "metadata": {
    "scrolled": true
   },
   "outputs": [],
   "source": [
    "# while condition to print even numbers\n",
    "\n",
    "n = int(input(\"Enter the Value:\"))\n",
    "i = 0\n",
    "while i<=n:\n",
    "    if i%2==0:\n",
    "        print(i,\"Even\")\n",
    "    i+=1"
   ]
  },
  {
   "cell_type": "code",
   "execution_count": null,
   "metadata": {},
   "outputs": [],
   "source": [
    "n = int(input(\"Enter the Value:\"))\n",
    "i = 1\n",
    "while i<=n:\n",
    "    if i%2==0:\n",
    "        print(i,\"Even\",end=\"-->\")\n",
    "    i+=1"
   ]
  },
  {
   "cell_type": "code",
   "execution_count": null,
   "metadata": {},
   "outputs": [],
   "source": [
    "# using for loop ,even numbers\n",
    "n = int(input(\"Enter the value\"))\n",
    "for i in range(0,n+1):\n",
    "    if i%2==0:\n",
    "        print(i,\"even\",end=\"-->\")"
   ]
  },
  {
   "cell_type": "code",
   "execution_count": 14,
   "metadata": {},
   "outputs": [
    {
     "name": "stdout",
     "output_type": "stream",
     "text": [
      "h\n",
      "e\n"
     ]
    }
   ],
   "source": [
    "# Jumping Statement --> break, continue, pass\n",
    "\n",
    "s=\"hello\"\n",
    "for i in s:\n",
    "    if i==\"l\":\n",
    "        break\n",
    "    print(i) "
   ]
  },
  {
   "cell_type": "code",
   "execution_count": null,
   "metadata": {},
   "outputs": [],
   "source": [
    "# Read any number from user\n",
    "\n",
    "# read string and print even indexes"
   ]
  },
  {
   "cell_type": "code",
   "execution_count": 15,
   "metadata": {},
   "outputs": [
    {
     "name": "stdout",
     "output_type": "stream",
     "text": [
      "h\n",
      "e\n",
      "o\n"
     ]
    }
   ],
   "source": [
    "# continue statement \n",
    "\n",
    "s=\"hello\"\n",
    "for i in s:\n",
    "    if i==\"l\":\n",
    "        continue\n",
    "    print(i) "
   ]
  },
  {
   "cell_type": "code",
   "execution_count": null,
   "metadata": {},
   "outputs": [],
   "source": [
    "# used to pause the code \n",
    "\n",
    "def name:\n",
    "    pass"
   ]
  },
  {
   "cell_type": "code",
   "execution_count": null,
   "metadata": {},
   "outputs": [],
   "source": [
    "# Functions are 3 types\n",
    "\n",
    "# Pre-defined \n",
    "# print,input,type,ord,chr,bin,sum,max,min,round,pow,sorted,oct,next,len,all,any\n",
    "\n",
    "# User-defined\n",
    "\n",
    "# Special functions"
   ]
  },
  {
   "cell_type": "code",
   "execution_count": 31,
   "metadata": {},
   "outputs": [
    {
     "data": {
      "text/plain": [
       "1024"
      ]
     },
     "execution_count": 31,
     "metadata": {},
     "output_type": "execute_result"
    }
   ],
   "source": [
    "a=\"Python Workshop\"\n",
    "b=[1,2,3,4,5]\n",
    "c=''\n",
    "len(a)\n",
    "type(a)\n",
    "ord('z')\n",
    "bin(5)\n",
    "sum(b)\n",
    "max(a)\n",
    "min(a)\n",
    "round(10.5555)\n",
    "sorted(a)\n",
    "all(c)\n",
    "any(c)\n",
    "abs(-1)\n",
    "pow(2,10)"
   ]
  },
  {
   "cell_type": "code",
   "execution_count": null,
   "metadata": {},
   "outputs": [],
   "source": []
  }
 ],
 "metadata": {
  "kernelspec": {
   "display_name": "Python 3",
   "language": "python",
   "name": "python3"
  },
  "language_info": {
   "codemirror_mode": {
    "name": "ipython",
    "version": 3
   },
   "file_extension": ".py",
   "mimetype": "text/x-python",
   "name": "python",
   "nbconvert_exporter": "python",
   "pygments_lexer": "ipython3",
   "version": "3.7.3"
  }
 },
 "nbformat": 4,
 "nbformat_minor": 2
}
