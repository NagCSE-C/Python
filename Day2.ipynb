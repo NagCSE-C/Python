{
 "cells": [
  {
   "cell_type": "markdown",
   "metadata": {},
   "source": [
    "# To Day Agenda\n",
    "\n",
    "+ Execution of commands in python shell\n",
    "\n",
    "+ Data Types\n",
    "    + int\n",
    "    - float\n",
    "    * boolean\n",
    "    * string(str)\n",
    "    + complex\n",
    "+ I/p and O/p\n",
    " \n",
    "+ Program Execution in IDLE\n",
    "\n",
    "- Program Execution in CommandPrompt\n",
    "\n",
    "\n",
    "+ Git Hub Account Creation\n",
    "\n"
   ]
  },
  {
   "cell_type": "markdown",
   "metadata": {},
   "source": [
    "…or create a new repository on the command line\n",
    "echo \"# Python\" >> README.md\n",
    "git init\n",
    "git add README.md\n",
    "git commit -m \"first commit\"\n",
    "git branch -M main\n",
    "git remote add origin https://github.com/NagCSE-C/Python.git\n",
    "git push -u origin main\n",
    "…or push an existing repository from the command line\n",
    "git remote add origin https://github.com/NagCSE-C/Python.git\n",
    "git branch -M main\n",
    "git push -u origin main\n"
   ]
  },
  {
   "cell_type": "code",
   "execution_count": null,
   "metadata": {},
   "outputs": [],
   "source": []
  }
 ],
 "metadata": {
  "kernelspec": {
   "display_name": "Python 3",
   "language": "python",
   "name": "python3"
  },
  "language_info": {
   "codemirror_mode": {
    "name": "ipython",
    "version": 3
   },
   "file_extension": ".py",
   "mimetype": "text/x-python",
   "name": "python",
   "nbconvert_exporter": "python",
   "pygments_lexer": "ipython3",
   "version": "3.7.3"
  }
 },
 "nbformat": 4,
 "nbformat_minor": 2
}
